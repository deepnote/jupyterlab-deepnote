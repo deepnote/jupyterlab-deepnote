{
  "cells": [
    {
      "cell_type": "markdown",
      "metadata": {
        "formattedRanges": [],
        "cell_id": "f6359663a8984338a1b2c4cfd0d4c171",
        "deepnote_cell_type": "text-cell-p"
      },
      "source": "Code",
      "block_group": "a2621902d0a7472595a71e28f01bb3da"
    },
    {
      "cell_type": "code",
      "metadata": {
        "source_hash": "8a1ac92c",
        "execution_start": 1758017228976,
        "execution_millis": 13,
        "execution_context_id": "43d850b5-85c3-4bc8-b2d5-b50f2529e42c",
        "cell_id": "347b6e16651c453881cf75a0c7365618",
        "deepnote_cell_type": "code"
      },
      "source": "import pandas as pd\nimport numpy as np\n\n# Create sample data\ndata = {\n    'Name': ['John', 'Emma', 'Michael', 'Sarah', 'David'],\n    'Age': [28, 34, 42, 25, 31],\n    'Salary': [65000, 78000, 95000, 62000, 70000],\n    'Department': ['IT', 'HR', 'Finance', 'Marketing', 'IT'],\n    'Experience': [3, 7, 12, 2, 5]\n}\n\n# Create DataFrame\ndf = pd.DataFrame(data)\n\n# Create salary_max variable\nsalary_max = df['Salary'].max()\n\n# Create salary_min variable\nsalary_min = df['Salary'].min()\n\n# Display the DataFrame\ndf",
      "block_group": "2a432c3f8c6a4602a4299b5094cd1b35",
      "execution_count": 1,
      "outputs": [],
      "outputs_reference": null,
      "content_dependencies": null
    },
    {
      "cell_type": "markdown",
      "metadata": {
        "formattedRanges": [],
        "cell_id": "f8e64035510d4918a22bbac0bc997982",
        "deepnote_cell_type": "text-cell-p"
      },
      "source": "Markdown",
      "block_group": "51672b4375be4e208ca0cb6d58ea17da"
    },
    {
      "cell_type": "markdown",
      "metadata": {
        "cell_id": "73f558db2f114d50b4eca9ebbff82870",
        "deepnote_cell_type": "markdown"
      },
      "source": "# Markdown heading\n\nMarkdown body text with a [link](https://www.google.com) and a **bold** word.",
      "block_group": "10a282b7984f4ad98f90ac490c9bed3c"
    },
    {
      "cell_type": "markdown",
      "metadata": {
        "formattedRanges": [],
        "cell_id": "34aebdcb65d84cdba24cc6b0185beeba",
        "deepnote_cell_type": "text-cell-p"
      },
      "source": "Paragraph",
      "block_group": "7f88f5051e844b36a0cf97ddae05c9fc"
    },
    {
      "cell_type": "markdown",
      "metadata": {
        "formattedRanges": [],
        "cell_id": "f0a69c045b0b4a47ac3a19ca2e04cad7",
        "deepnote_cell_type": "text-cell-p"
      },
      "source": "A paragraph of text",
      "block_group": "af1ca519408e49a3b766ebc98d77db48"
    },
    {
      "cell_type": "markdown",
      "metadata": {
        "formattedRanges": [],
        "cell_id": "300cda58d0814c928dd3bfeb72965696",
        "deepnote_cell_type": "text-cell-p"
      },
      "source": "Heading 1",
      "block_group": "550d948208fb4ced92d8600653be15b4"
    },
    {
      "cell_type": "markdown",
      "metadata": {
        "formattedRanges": [],
        "cell_id": "1cf63fe584e6403bb1c646f6481ed1e1",
        "deepnote_cell_type": "text-cell-h1"
      },
      "source": "# Heading 1",
      "block_group": "9a7f7bf77b3b45f6becf7ae73e6eee62"
    },
    {
      "cell_type": "markdown",
      "metadata": {
        "formattedRanges": [],
        "cell_id": "b3aa9896fc6e4b97ba3eed8fdfb8995a",
        "deepnote_cell_type": "text-cell-p"
      },
      "source": "Heading 2",
      "block_group": "ac657f5a4adf478ba1b76a03c9d9361a"
    },
    {
      "cell_type": "markdown",
      "metadata": {
        "formattedRanges": [],
        "cell_id": "9ede33b832b14c7781888a2f778f6785",
        "deepnote_cell_type": "text-cell-h2"
      },
      "source": "## Heading 2",
      "block_group": "371421bb44344a7d91a221f501ccc08c"
    },
    {
      "cell_type": "markdown",
      "metadata": {
        "formattedRanges": [],
        "cell_id": "1fdd93c5ff004dac896214c52c2111e9",
        "deepnote_cell_type": "text-cell-p"
      },
      "source": "Heading 3",
      "block_group": "8111c8912fbd4211a90ad965b6b79ec1"
    },
    {
      "cell_type": "markdown",
      "metadata": {
        "formattedRanges": [],
        "cell_id": "6514a011a46a4a149046d188ab0eb271",
        "deepnote_cell_type": "text-cell-h3"
      },
      "source": "### Heading 3",
      "block_group": "259ddfd167f648e285a87d92577e2d41"
    },
    {
      "cell_type": "markdown",
      "metadata": {
        "formattedRanges": [],
        "cell_id": "faa890e3bdc647039b735657ad0aefbf",
        "deepnote_cell_type": "text-cell-p"
      },
      "source": "Bulleted list",
      "block_group": "9766707de7bc4685948657bff622b9f6"
    },
    {
      "cell_type": "markdown",
      "metadata": {
        "formattedRanges": [],
        "cell_id": "aec4ba3615954acaabdedf70f142c332",
        "deepnote_cell_type": "text-cell-bullet"
      },
      "source": "- Bullet one",
      "block_group": "c9a02867dfa04173a4d2f51464fac194"
    },
    {
      "cell_type": "markdown",
      "metadata": {
        "formattedRanges": [],
        "cell_id": "9f9f6c22499645a0945b46ec2ab5998a",
        "deepnote_cell_type": "text-cell-bullet"
      },
      "source": "- Bullet two",
      "block_group": "8d21db08da194515a3932e066f77fb77"
    },
    {
      "cell_type": "markdown",
      "metadata": {
        "formattedRanges": [],
        "cell_id": "6a1360e12cf648078226ee019c87f483",
        "deepnote_cell_type": "text-cell-bullet"
      },
      "source": "- Bullet three",
      "block_group": "edc1ed0fb7614023bb7617fdc1c0abea"
    },
    {
      "cell_type": "markdown",
      "metadata": {
        "formattedRanges": [],
        "cell_id": "54fea078b60b40caa7ed54d98b74c2f7",
        "deepnote_cell_type": "text-cell-p"
      },
      "source": "To-do list",
      "block_group": "f371ee9e94e1428ba8ec355e12dca38c"
    },
    {
      "cell_type": "markdown",
      "metadata": {
        "formattedRanges": [],
        "cell_id": "b8213fd33984429da8ab939a6cafe53f",
        "deepnote_cell_type": "text-cell-todo"
      },
      "source": "- [ ] To-do item one",
      "block_group": "b50b2211535a4f9782fce8051cacac66"
    },
    {
      "cell_type": "markdown",
      "metadata": {
        "checked": false,
        "formattedRanges": [],
        "cell_id": "8757f7e24b824c6e8c1c2ee3e76e5e50",
        "deepnote_cell_type": "text-cell-todo"
      },
      "source": "- [ ] To-do item two",
      "block_group": "0a4ff943c02e4fd4bfcf94a4ef386aa3"
    },
    {
      "cell_type": "markdown",
      "metadata": {
        "checked": false,
        "formattedRanges": [],
        "cell_id": "30cf5a1a68fc4579ae86a498ab916ab3",
        "deepnote_cell_type": "text-cell-todo"
      },
      "source": "- [ ] To-do item three",
      "block_group": "888a33aafca844b6ac1597313858ef21"
    },
    {
      "cell_type": "markdown",
      "metadata": {
        "formattedRanges": [],
        "cell_id": "b6729542fe4c47079a398657a66a75c3",
        "deepnote_cell_type": "text-cell-p"
      },
      "source": "Callout",
      "block_group": "2d4e5049a24643c6a80a0a35559f8cc1"
    },
    {
      "cell_type": "markdown",
      "metadata": {
        "formattedRanges": [],
        "cell_id": "b3dc04fdfc9c4571be3a960e9674e3a1",
        "deepnote_cell_type": "text-cell-callout"
      },
      "source": "> A callout with some text",
      "block_group": "e792897153f44d20ae6ffaefc0457262"
    },
    {
      "cell_type": "markdown",
      "metadata": {
        "formattedRanges": [],
        "cell_id": "3cb803815f694153bbf763d4f82772f2",
        "deepnote_cell_type": "text-cell-p"
      },
      "source": "Separator",
      "block_group": "db67578e7dd348a9a3b1eae1f677373d"
    },
    {
      "cell_type": "markdown",
      "metadata": {
        "cell_id": "091223f162044c2bab926c0f36a688e8",
        "deepnote_cell_type": "separator"
      },
      "source": "<hr>",
      "block_group": "7f45e1873f044edaabbf98eb954bb2f4"
    },
    {
      "cell_type": "markdown",
      "metadata": {
        "formattedRanges": [],
        "cell_id": "de73a7dcfae44252acb9e92f46008bc1",
        "deepnote_cell_type": "text-cell-p"
      },
      "source": "SQL",
      "block_group": "c78377f47a68485d89d50951e8e28300"
    },
    {
      "cell_type": "code",
      "metadata": {
        "source_hash": "a3523be3",
        "execution_start": 1758017229128,
        "execution_millis": 371,
        "sql_integration_id": "deepnote-dataframe-sql",
        "execution_context_id": "43d850b5-85c3-4bc8-b2d5-b50f2529e42c",
        "deepnote_variable_name": "df",
        "cell_id": "3cbce657e51247f2b01b730661260cb3",
        "deepnote_cell_type": "sql",
        "deepnote_sql_source": "SELECT * FROM df;"
      },
      "source": "df = _dntk.execute_sql(\n  'SELECT * FROM df;',\n  'SQL_DEEPNOTE_DATAFRAME_SQL',\n  audit_sql_comment='',\n  sql_cache_mode='cache_disabled',\n  return_variable_type='dataframe'\n)\ndf",
      "block_group": "19c9f74d74b741f2b76c2bbb19b9e072",
      "execution_count": 2,
      "outputs": [],
      "outputs_reference": null,
      "content_dependencies": null
    },
    {
      "cell_type": "markdown",
      "metadata": {
        "formattedRanges": [],
        "cell_id": "b4d48a1639bc4a8b83a7b4000085a862",
        "deepnote_cell_type": "text-cell-p"
      },
      "source": "Chat",
      "block_group": "90ed378eaa4d430d8f894680ca7a6b17"
    },
    {
      "cell_type": "code",
      "metadata": {
        "source_hash": "652dccd7",
        "execution_start": 1758017230093,
        "execution_millis": 125,
        "execution_context_id": "43d850b5-85c3-4bc8-b2d5-b50f2529e42c",
        "deepnote_variable_name": "df",
        "deepnote_visualization_spec": {
          "layer": [
            {
              "layer": [
                {
                  "layer": [
                    {
                      "mark": {
                        "clip": true,
                        "type": "bar",
                        "color": "#2266D3",
                        "tooltip": true
                      },
                      "encoding": {
                        "x": {
                          "axis": {
                            "title": "Employee name"
                          },
                          "sort": null,
                          "type": "nominal",
                          "field": "Name",
                          "scale": {
                            "type": "linear"
                          }
                        },
                        "y": {
                          "axis": {
                            "title": "Salary",
                            "format": {
                              "type": "number",
                              "decimals": null
                            },
                            "formatType": "numberFormatFromNumberType"
                          },
                          "type": "quantitative",
                          "field": "Salary",
                          "scale": {
                            "type": "linear"
                          },
                          "format": {
                            "type": "default",
                            "decimals": null
                          },
                          "aggregate": "sum",
                          "formatType": "numberFormatFromNumberType"
                        },
                        "color": {
                          "type": "nominal",
                          "datum": "Salary",
                          "scale": {
                            "range": [
                              "#2266D3"
                            ],
                            "domain": [
                              "Salary"
                            ]
                          }
                        },
                        "xOffset": {
                          "datum": "series_0"
                        }
                      },
                      "transform": []
                    }
                  ]
                }
              ],
              "resolve": {
                "scale": {
                  "color": "independent"
                }
              }
            }
          ],
          "title": "Salary by employee",
          "config": {
            "legend": {
              "disable": false
            }
          },
          "$schema": "https://vega.github.io/schema/vega-lite/v5.json",
          "encoding": {},
          "usermeta": {
            "seriesNames": [
              "Salary"
            ],
            "seriesOrder": [
              0
            ],
            "specSchemaVersion": 2,
            "tooltipDefaultMode": true
          }
        },
        "cell_id": "157db3d3f69845be87d3eee17eb677fe",
        "deepnote_cell_type": "visualization"
      },
      "source": "import inspect\n_dntk.DeepnoteChart(df, \"\"\"{\"layer\":[{\"layer\":[{\"layer\":[{\"mark\":{\"clip\":true,\"type\":\"bar\",\"color\":\"#2266D3\",\"tooltip\":true},\"encoding\":{\"x\":{\"axis\":{\"title\":\"Employee name\"},\"sort\":null,\"type\":\"nominal\",\"field\":\"Name\",\"scale\":{\"type\":\"linear\"}},\"y\":{\"axis\":{\"title\":\"Salary\",\"format\":{\"type\":\"number\",\"decimals\":null},\"formatType\":\"numberFormatFromNumberType\"},\"type\":\"quantitative\",\"field\":\"Salary\",\"scale\":{\"type\":\"linear\"},\"format\":{\"type\":\"default\",\"decimals\":null},\"aggregate\":\"sum\",\"formatType\":\"numberFormatFromNumberType\"},\"color\":{\"type\":\"nominal\",\"datum\":\"Salary\",\"scale\":{\"range\":[\"#2266D3\"],\"domain\":[\"Salary\"]}},\"xOffset\":{\"datum\":\"series_0\"}},\"transform\":[]}]}],\"resolve\":{\"scale\":{\"color\":\"independent\"}}}],\"title\":\"Salary by employee\",\"config\":{\"legend\":{\"disable\":false}},\"$schema\":\"https://vega.github.io/schema/vega-lite/v5.json\",\"encoding\":{},\"usermeta\":{\"seriesNames\":[\"Salary\"],\"seriesOrder\":[0],\"specSchemaVersion\":2,\"tooltipDefaultMode\":true}}\"\"\", **({'attach_selection': True} if 'attach_selection' in inspect.signature(_dntk.DeepnoteChart).parameters else {}), **({'filters': '[]'} if 'filters' in inspect.signature(_dntk.DeepnoteChart).parameters else {}))",
      "block_group": "93602502de714543949d62c94101c476",
      "execution_count": 3,
      "outputs": [],
      "outputs_reference": null
    },
    {
      "cell_type": "markdown",
      "metadata": {
        "formattedRanges": [],
        "cell_id": "4792b856d35b40c3ac4ecc880513ba67",
        "deepnote_cell_type": "text-cell-p"
      },
      "source": "Big number",
      "block_group": "d9c55e56e13745019ff43bad8b94ca6c"
    },
    {
      "cell_type": "code",
      "metadata": {
        "source_hash": "ea65eb57",
        "execution_start": 1758017230260,
        "execution_millis": 1,
        "execution_context_id": "43d850b5-85c3-4bc8-b2d5-b50f2529e42c",
        "deepnote_big_number_title": "Max salary",
        "deepnote_big_number_value": "salary_max",
        "deepnote_big_number_format": "currency",
        "deepnote_big_number_comparison_type": "",
        "deepnote_big_number_comparison_title": "Difference with min",
        "deepnote_big_number_comparison_value": "salary_min",
        "deepnote_big_number_comparison_format": "",
        "deepnote_big_number_comparison_enabled": true,
        "cell_id": "63bd93dd0c7b4940bb7e2f281ef527ea",
        "deepnote_cell_type": "big-number"
      },
      "source": "\ndef __deepnote_big_number__():\n    import json\n    import jinja2\n    from jinja2 import meta\n\n    def render_template(template):\n        parsed_content = jinja2.Environment().parse(template)\n\n        required_variables = meta.find_undeclared_variables(parsed_content)\n\n        context = {\n            variable_name: globals().get(variable_name)\n            for variable_name in required_variables\n        }\n\n        result = jinja2.Environment().from_string(template).render(context)\n\n        return result\n\n    rendered_title = render_template(\"Max salary\")\n    rendered_comparison_title = render_template(\"Difference with min\")\n\n    return json.dumps({\n        \"comparisonTitle\": rendered_comparison_title,\n        \"comparisonValue\": f\"{salary_min}\",\n        \"title\": rendered_title,\n        \"value\": f\"{salary_max}\"\n    })\n\n__deepnote_big_number__()\n",
      "block_group": "69a7615d8fec4e018ad29df4f7c9c8a6",
      "execution_count": 4,
      "outputs": [],
      "outputs_reference": null
    },
    {
      "cell_type": "markdown",
      "metadata": {
        "formattedRanges": [],
        "cell_id": "b4ef3456ab3541d59c32127a4ec3623a",
        "deepnote_cell_type": "text-cell-p"
      },
      "source": "Text input",
      "block_group": "9300674080aa47178c3e80f9603bf522"
    },
    {
      "cell_type": "code",
      "metadata": {
        "source_hash": "73002490",
        "execution_start": 1758017230310,
        "execution_millis": 0,
        "deepnote_input_label": "Text input display name",
        "execution_context_id": "43d850b5-85c3-4bc8-b2d5-b50f2529e42c",
        "deepnote_variable_name": "text_input",
        "deepnote_variable_value": "",
        "deepnote_variable_default_value": "Some text input value",
        "cell_id": "9617772dd620494588d82ff362f8723b",
        "deepnote_cell_type": "input-text"
      },
      "source": "text_input = ''",
      "block_group": "cde392347c26426286cecd44eb7cc80e",
      "execution_count": 5,
      "outputs": [],
      "outputs_reference": null
    },
    {
      "cell_type": "markdown",
      "metadata": {
        "formattedRanges": [],
        "cell_id": "d68f1407519648cf9352322a78706262",
        "deepnote_cell_type": "text-cell-p"
      },
      "source": "Text area input",
      "block_group": "843434fa29fb4926ac8e7d2c8708b683"
    },
    {
      "cell_type": "code",
      "metadata": {
        "source_hash": "dc8f2258",
        "execution_start": 1758017230360,
        "execution_millis": 0,
        "deepnote_input_label": "Text area input",
        "execution_context_id": "43d850b5-85c3-4bc8-b2d5-b50f2529e42c",
        "deepnote_variable_name": "text_area_input",
        "deepnote_variable_value": "",
        "deepnote_variable_default_value": "Some text area value",
        "cell_id": "78b702ad9e4249c6a734e6540fd6d594",
        "deepnote_cell_type": "input-textarea"
      },
      "source": "text_area_input = ''",
      "block_group": "0fbadd030dc44a55abdaba6c519a192c",
      "execution_count": 6,
      "outputs": [],
      "outputs_reference": null
    },
    {
      "cell_type": "markdown",
      "metadata": {
        "formattedRanges": [],
        "cell_id": "6b4cf64deb7e4889a12ff8224f403e6e",
        "deepnote_cell_type": "text-cell-p"
      },
      "source": "Select input",
      "block_group": "4d3f0ded61ae433f943e667f6aa0acac"
    },
    {
      "cell_type": "code",
      "metadata": {
        "source_hash": "f30613eb",
        "execution_start": 1758017230410,
        "execution_millis": 0,
        "deepnote_input_label": "Select input display name",
        "execution_context_id": "43d850b5-85c3-4bc8-b2d5-b50f2529e42c",
        "deepnote_variable_name": "select_input",
        "deepnote_variable_value": "Option 1",
        "deepnote_variable_options": [
          "Option 1",
          "Option 2"
        ],
        "deepnote_variable_select_type": "from-options",
        "deepnote_variable_default_value": "Option 1",
        "deepnote_variable_custom_options": [
          "Option 1",
          "Option 2"
        ],
        "deepnote_variable_selected_variable": "",
        "cell_id": "ad0dc815587c414e8350b7b2c277f526",
        "deepnote_cell_type": "input-select"
      },
      "source": "select_input = 'Option 1'",
      "block_group": "8e1b14cb668a4a639812149ca1b076f0",
      "execution_count": 7,
      "outputs": [],
      "outputs_reference": null
    },
    {
      "cell_type": "markdown",
      "metadata": {
        "formattedRanges": [],
        "cell_id": "d71623200b3a4139b78a3f64f11d1fee",
        "deepnote_cell_type": "text-cell-p"
      },
      "source": "Slider input",
      "block_group": "eeb937709b734d4ebfb10057b4f14427"
    },
    {
      "cell_type": "code",
      "metadata": {
        "source_hash": "903ebe60",
        "execution_start": 1758017230460,
        "execution_millis": 0,
        "deepnote_input_label": "Slider input display name",
        "deepnote_slider_step": 1,
        "execution_context_id": "43d850b5-85c3-4bc8-b2d5-b50f2529e42c",
        "deepnote_variable_name": "slider_input",
        "deepnote_variable_value": "5",
        "deepnote_slider_max_value": 10,
        "deepnote_slider_min_value": 0,
        "deepnote_variable_default_value": "7",
        "cell_id": "f5bde14ac91b4c619d4721119f6dc097",
        "deepnote_cell_type": "input-slider"
      },
      "source": "slider_input = 5",
      "block_group": "ce9d87717518498a8e258cd7ca4c530c",
      "execution_count": 8,
      "outputs": [],
      "outputs_reference": null
    },
    {
      "cell_type": "markdown",
      "metadata": {
        "formattedRanges": [],
        "cell_id": "1025124c6e2d423db37f1a2801d919c8",
        "deepnote_cell_type": "text-cell-p"
      },
      "source": "Checkbox input",
      "block_group": "0055729453894afa9c2a918ae9e4ad5d"
    },
    {
      "cell_type": "code",
      "metadata": {
        "source_hash": "43d96aab",
        "execution_start": 1758017230510,
        "execution_millis": 0,
        "deepnote_input_label": "Checkbox input display name",
        "execution_context_id": "43d850b5-85c3-4bc8-b2d5-b50f2529e42c",
        "deepnote_variable_name": "checkbox_input",
        "deepnote_variable_value": false,
        "deepnote_input_checkbox_label": "Checkbox label",
        "deepnote_variable_default_value": true,
        "cell_id": "2b8c96e18b9047e1abdbc1030e64e483",
        "deepnote_cell_type": "input-checkbox"
      },
      "source": "checkbox_input = False",
      "block_group": "b33c667b572f4a8a981b26f3153fd113",
      "execution_count": 9,
      "outputs": [],
      "outputs_reference": null
    },
    {
      "cell_type": "markdown",
      "metadata": {
        "formattedRanges": [],
        "cell_id": "5574b42d69b84dd485a5af45eed8ed24",
        "deepnote_cell_type": "text-cell-p"
      },
      "source": "Date input",
      "block_group": "997c3f11880641fcafd4e5d189f399c5"
    },
    {
      "cell_type": "code",
      "metadata": {
        "source_hash": "5506e6cf",
        "execution_start": 1758101400493,
        "execution_millis": 1,
        "deepnote_input_label": "Date input display name",
        "execution_context_id": "c8ddf739-5e27-4b0f-a7a1-6f638a515fbc",
        "deepnote_variable_name": "date_input",
        "deepnote_variable_value": "2025-09-16T00:00:00.000Z",
        "deepnote_input_date_version": 2,
        "deepnote_variable_default_value": "2025-08-27T00:00:00.000Z",
        "cell_id": "da864431beb24d7ea254caf07469b64f",
        "deepnote_cell_type": "input-date"
      },
      "source": "\nfrom dateutil.parser import parse as _deepnote_parse\ndate_input = _deepnote_parse('2025-09-16T00:00:00.000Z').date()\n",
      "block_group": "76b2a29b9fbb43b88987d605df82c196",
      "execution_count": 1,
      "outputs": [],
      "outputs_reference": null
    },
    {
      "cell_type": "markdown",
      "metadata": {
        "formattedRanges": [],
        "cell_id": "453586f33cff44b8817b90f8fe96bb7c",
        "deepnote_cell_type": "text-cell-p"
      },
      "source": "Date range input",
      "block_group": "7bb4afb3b9e64ad9ac641040fae0f39f"
    },
    {
      "cell_type": "code",
      "metadata": {
        "source_hash": "df64ed1d",
        "execution_start": 1758017230610,
        "execution_millis": 0,
        "deepnote_input_label": "Date range input display name",
        "execution_context_id": "43d850b5-85c3-4bc8-b2d5-b50f2529e42c",
        "deepnote_variable_name": "date_range_input",
        "deepnote_variable_value": "",
        "deepnote_variable_default_value": [
          "2025-08-12",
          "2025-08-14"
        ],
        "cell_id": "c0d58153fea24d749787d145a7184a95",
        "deepnote_cell_type": "input-date-range"
      },
      "source": "date_range_input = [None, None]",
      "block_group": "adb47271070b4ec5bd7ae36b6374ed8c",
      "execution_count": 11,
      "outputs": [],
      "outputs_reference": null
    },
    {
      "cell_type": "markdown",
      "metadata": {
        "formattedRanges": [],
        "cell_id": "067e15e2da45411996f2596f0b771bc2",
        "deepnote_cell_type": "text-cell-p"
      },
      "source": "File input",
      "block_group": "f0729b0fd20546cfa27eb6cec10cd15a"
    },
    {
      "cell_type": "code",
      "metadata": {
        "source_hash": "2a21d71e",
        "execution_start": 1758017230660,
        "execution_millis": 0,
        "deepnote_input_label": "File input display name",
        "execution_context_id": "43d850b5-85c3-4bc8-b2d5-b50f2529e42c",
        "deepnote_variable_name": "file_input",
        "deepnote_variable_value": "file_input_uploads/user_events_mini.csv",
        "deepnote_allowed_file_extensions": ".csv",
        "cell_id": "4aaf723a72644849aeac5850a31899a0",
        "deepnote_cell_type": "input-file"
      },
      "source": "file_input = 'file_input_uploads/user_events_mini.csv'",
      "block_group": "476d14d4916b408394563233abaf8b41",
      "execution_count": 12,
      "outputs": [],
      "outputs_reference": null
    },
    {
      "cell_type": "markdown",
      "metadata": {
        "formattedRanges": [],
        "cell_id": "07b4d5b4d6974ee2bc1ba0cebc222756",
        "deepnote_cell_type": "text-cell-p"
      },
      "source": "Button",
      "block_group": "dca7628f959e4975abe29417fbb585e8"
    },
    {
      "cell_type": "markdown",
      "metadata": {
        "source_hash": "25dd0fc7",
        "execution_start": 1758017230710,
        "execution_millis": 0,
        "execution_context_id": "43d850b5-85c3-4bc8-b2d5-b50f2529e42c",
        "deepnote_button_title": "Set variable",
        "deepnote_variable_name": "button_input_set_variable",
        "deepnote_button_behavior": "set_variable",
        "deepnote_button_color_scheme": "blue",
        "cell_id": "a697f0202b9a4c67a4cb7120efef8867",
        "deepnote_cell_type": "button"
      },
      "source": "button_input_set_variable = False",
      "block_group": "82e1707478464399abb956e9fdddda46",
      "execution_count": null,
      "outputs": [],
      "outputs_reference": null
    },
    {
      "cell_type": "markdown",
      "metadata": {
        "source_hash": "b623e53d",
        "execution_start": 1758017230760,
        "execution_millis": 0,
        "execution_context_id": "43d850b5-85c3-4bc8-b2d5-b50f2529e42c",
        "deepnote_button_title": "Run notebook",
        "deepnote_variable_name": "button_1",
        "deepnote_button_behavior": "run",
        "deepnote_button_color_scheme": "blue",
        "cell_id": "8b4935f7cefe4d819cad51b66c93fd79",
        "deepnote_cell_type": "button"
      },
      "source": "",
      "block_group": "2c8494b7dec74944bacc78a7b584bb79",
      "execution_count": null,
      "outputs": [],
      "outputs_reference": null
    },
    {
      "cell_type": "markdown",
      "metadata": {
        "formattedRanges": [],
        "cell_id": "0a334a952e274c2e915002636375b331",
        "deepnote_cell_type": "text-cell-p"
      },
      "source": "Module",
      "block_group": "44cdb835e3484a36b8e319e0a019b6da"
    },
    {
      "cell_type": "code",
      "metadata": {
        "source_hash": "b63b0b2e",
        "execution_start": 1758017517949,
        "execution_millis": 145407,
        "execution_context_id": "f5da58fe-0dad-4318-867a-0ab9925d7c28",
        "function_notebook_id": "e960b15d27074d38a6b07ff87eb42c89",
        "function_notebook_inputs": {},
        "last_function_run_started_at": 1758017655789,
        "function_notebook_export_mappings": {
          "Monthly_signups": {
            "enabled": true,
            "variable_name": "Monthly_signups"
          }
        },
        "last_executed_function_notebook_id": "e960b15d27074d38a6b07ff87eb42c89",
        "cell_id": "8e613308b24f419eb550573eda2602ab",
        "deepnote_cell_type": "notebook-function"
      },
      "source": "def _deepnote_run_notebook_function(export_table_states_json):\n  globals()['_deepnote_run_notebook_function'] = None\n\n  return _dntk.run_notebook_function(\n    scope=globals(),\n    function_notebook_id='e960b15d27074d38a6b07ff87eb42c89',\n    inputs={},\n    export_mappings={'Monthly_signups': {'enabled': True,'variable_name': 'Monthly_signups'}},\n    export_table_states_json=export_table_states_json,\n    notebook_function_api_token='',\n    parent_notebook_function_run_id=None,\n    debug=False\n  )",
      "block_group": "15846815e8f743f582176f114aaf799f",
      "execution_count": 1,
      "outputs": [],
      "outputs_reference": null
    },
    {
      "cell_type": "markdown",
      "source": "<a style='text-decoration:none;line-height:16px;display:flex;color:#5B5B62;padding:10px;justify-content:end;' href='https://deepnote.com?utm_source=created-in-deepnote-cell&projectId=c4604eab-9672-4d68-ab40-4c27af41fbc7' target=\"_blank\">\n<img alt='Created in deepnote.com' style='display:inline;max-height:16px;margin:0px;margin-right:7.5px;' src='data:image/svg+xml;base64,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' > </img>\nCreated in <span style='font-weight:600;margin-left:4px;'>Deepnote</span></a>",
      "metadata": {
        "created_in_deepnote_cell": true,
        "deepnote_cell_type": "markdown"
      }
    }
  ],
  "nbformat": 4,
  "nbformat_minor": 0,
  "metadata": {
    "deepnote_persisted_session": {
      "createdAt": "2025-09-16T12:15:01.925Z"
    },
    "deepnote_notebook_id": "686ad8158f6947f9b2796fb1add22277"
  }
}
